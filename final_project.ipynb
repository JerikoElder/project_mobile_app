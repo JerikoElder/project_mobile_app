{
 "cells": [
  {
   "cell_type": "markdown",
   "metadata": {},
   "source": [
    "# Проект\n",
    "В рамках работы над проектом для компании, разрабатывающей мобильные игры, мне были поставлены несколько задач, касающихся анализа различных аспектов мобильного приложения:\n",
    "\n",
    "В первую очередь, менеджер заинтересовался показателем retention (удержания пользователей). Нужно разработать функцию для подсчета этого показателя, которая позволяет вычислять процент пользователей, вернувшихся в игру через определённый промежуток времени после первого использования.\n",
    "\n",
    "В компании было проведено A/B тестирование различных акционных предложений. На основе полученных данных нужно определить, какое предложение показывает лучшие результаты и на основе каких метрик стоит принять правильное решение.\n",
    "    \n",
    "В связи с прошедшим тематическим событием в игре, мне было поручено предложить метрики для оценки его успеха. "
   ]
  },
  {
   "cell_type": "code",
   "execution_count": 128,
   "metadata": {},
   "outputs": [],
   "source": [
    "# Импортируем библиотеки\n",
    "import numpy as np\n",
    "import pandas as pd\n",
    "import scipy.stats as ss\n",
    "import seaborn as sns\n",
    "import plotly.express as px\n",
    "import matplotlib.pyplot as plt\n",
    "import statsmodels.api as sm"
   ]
  },
  {
   "cell_type": "code",
   "execution_count": 129,
   "metadata": {},
   "outputs": [],
   "source": [
    "# Читаем данные\n",
    "reg_data = pd.read_csv('problem1-reg_data.csv', sep=';')\n",
    "auth_data = pd.read_csv('problem1-auth_data.csv', sep=';')"
   ]
  },
  {
   "cell_type": "markdown",
   "metadata": {},
   "source": [
    "# Задание 1\n",
    "**Retention** – один из самых важных показателей в компании. Ваша задача – написать функцию, которая будет считать retention игроков (по дням от даты регистрации игрока). Данные лежат в папке shared и имеют следующую структуру:"
   ]
  },
  {
   "cell_type": "code",
   "execution_count": 130,
   "metadata": {},
   "outputs": [],
   "source": [
    "# Проведем разведочный анализ, а также подготовим данные для дальнейшей работы."
   ]
  },
  {
   "cell_type": "code",
   "execution_count": 131,
   "metadata": {},
   "outputs": [
    {
     "data": {
      "text/html": [
       "<div>\n",
       "<style scoped>\n",
       "    .dataframe tbody tr th:only-of-type {\n",
       "        vertical-align: middle;\n",
       "    }\n",
       "\n",
       "    .dataframe tbody tr th {\n",
       "        vertical-align: top;\n",
       "    }\n",
       "\n",
       "    .dataframe thead th {\n",
       "        text-align: right;\n",
       "    }\n",
       "</style>\n",
       "<table border=\"1\" class=\"dataframe\">\n",
       "  <thead>\n",
       "    <tr style=\"text-align: right;\">\n",
       "      <th></th>\n",
       "      <th>reg_ts</th>\n",
       "      <th>uid</th>\n",
       "    </tr>\n",
       "  </thead>\n",
       "  <tbody>\n",
       "    <tr>\n",
       "      <th>0</th>\n",
       "      <td>911382223</td>\n",
       "      <td>1</td>\n",
       "    </tr>\n",
       "    <tr>\n",
       "      <th>1</th>\n",
       "      <td>932683089</td>\n",
       "      <td>2</td>\n",
       "    </tr>\n",
       "    <tr>\n",
       "      <th>2</th>\n",
       "      <td>947802447</td>\n",
       "      <td>3</td>\n",
       "    </tr>\n",
       "    <tr>\n",
       "      <th>3</th>\n",
       "      <td>959523541</td>\n",
       "      <td>4</td>\n",
       "    </tr>\n",
       "    <tr>\n",
       "      <th>4</th>\n",
       "      <td>969103313</td>\n",
       "      <td>5</td>\n",
       "    </tr>\n",
       "    <tr>\n",
       "      <th>...</th>\n",
       "      <td>...</td>\n",
       "      <td>...</td>\n",
       "    </tr>\n",
       "    <tr>\n",
       "      <th>999995</th>\n",
       "      <td>1600874034</td>\n",
       "      <td>1110618</td>\n",
       "    </tr>\n",
       "    <tr>\n",
       "      <th>999996</th>\n",
       "      <td>1600874086</td>\n",
       "      <td>1110619</td>\n",
       "    </tr>\n",
       "    <tr>\n",
       "      <th>999997</th>\n",
       "      <td>1600874139</td>\n",
       "      <td>1110620</td>\n",
       "    </tr>\n",
       "    <tr>\n",
       "      <th>999998</th>\n",
       "      <td>1600874191</td>\n",
       "      <td>1110621</td>\n",
       "    </tr>\n",
       "    <tr>\n",
       "      <th>999999</th>\n",
       "      <td>1600874244</td>\n",
       "      <td>1110622</td>\n",
       "    </tr>\n",
       "  </tbody>\n",
       "</table>\n",
       "<p>1000000 rows × 2 columns</p>\n",
       "</div>"
      ],
      "text/plain": [
       "            reg_ts      uid\n",
       "0        911382223        1\n",
       "1        932683089        2\n",
       "2        947802447        3\n",
       "3        959523541        4\n",
       "4        969103313        5\n",
       "...            ...      ...\n",
       "999995  1600874034  1110618\n",
       "999996  1600874086  1110619\n",
       "999997  1600874139  1110620\n",
       "999998  1600874191  1110621\n",
       "999999  1600874244  1110622\n",
       "\n",
       "[1000000 rows x 2 columns]"
      ]
     },
     "execution_count": 131,
     "metadata": {},
     "output_type": "execute_result"
    }
   ],
   "source": [
    "reg_data"
   ]
  },
  {
   "cell_type": "code",
   "execution_count": 132,
   "metadata": {},
   "outputs": [
    {
     "data": {
      "text/html": [
       "<div>\n",
       "<style scoped>\n",
       "    .dataframe tbody tr th:only-of-type {\n",
       "        vertical-align: middle;\n",
       "    }\n",
       "\n",
       "    .dataframe tbody tr th {\n",
       "        vertical-align: top;\n",
       "    }\n",
       "\n",
       "    .dataframe thead th {\n",
       "        text-align: right;\n",
       "    }\n",
       "</style>\n",
       "<table border=\"1\" class=\"dataframe\">\n",
       "  <thead>\n",
       "    <tr style=\"text-align: right;\">\n",
       "      <th></th>\n",
       "      <th>auth_ts</th>\n",
       "      <th>uid</th>\n",
       "    </tr>\n",
       "  </thead>\n",
       "  <tbody>\n",
       "    <tr>\n",
       "      <th>0</th>\n",
       "      <td>911382223</td>\n",
       "      <td>1</td>\n",
       "    </tr>\n",
       "    <tr>\n",
       "      <th>1</th>\n",
       "      <td>932683089</td>\n",
       "      <td>2</td>\n",
       "    </tr>\n",
       "    <tr>\n",
       "      <th>2</th>\n",
       "      <td>932921206</td>\n",
       "      <td>2</td>\n",
       "    </tr>\n",
       "    <tr>\n",
       "      <th>3</th>\n",
       "      <td>933393015</td>\n",
       "      <td>2</td>\n",
       "    </tr>\n",
       "    <tr>\n",
       "      <th>4</th>\n",
       "      <td>933875379</td>\n",
       "      <td>2</td>\n",
       "    </tr>\n",
       "    <tr>\n",
       "      <th>...</th>\n",
       "      <td>...</td>\n",
       "      <td>...</td>\n",
       "    </tr>\n",
       "    <tr>\n",
       "      <th>9601008</th>\n",
       "      <td>1600874034</td>\n",
       "      <td>1110618</td>\n",
       "    </tr>\n",
       "    <tr>\n",
       "      <th>9601009</th>\n",
       "      <td>1600874086</td>\n",
       "      <td>1110619</td>\n",
       "    </tr>\n",
       "    <tr>\n",
       "      <th>9601010</th>\n",
       "      <td>1600874139</td>\n",
       "      <td>1110620</td>\n",
       "    </tr>\n",
       "    <tr>\n",
       "      <th>9601011</th>\n",
       "      <td>1600874191</td>\n",
       "      <td>1110621</td>\n",
       "    </tr>\n",
       "    <tr>\n",
       "      <th>9601012</th>\n",
       "      <td>1600874244</td>\n",
       "      <td>1110622</td>\n",
       "    </tr>\n",
       "  </tbody>\n",
       "</table>\n",
       "<p>9601013 rows × 2 columns</p>\n",
       "</div>"
      ],
      "text/plain": [
       "            auth_ts      uid\n",
       "0         911382223        1\n",
       "1         932683089        2\n",
       "2         932921206        2\n",
       "3         933393015        2\n",
       "4         933875379        2\n",
       "...             ...      ...\n",
       "9601008  1600874034  1110618\n",
       "9601009  1600874086  1110619\n",
       "9601010  1600874139  1110620\n",
       "9601011  1600874191  1110621\n",
       "9601012  1600874244  1110622\n",
       "\n",
       "[9601013 rows x 2 columns]"
      ]
     },
     "execution_count": 132,
     "metadata": {},
     "output_type": "execute_result"
    }
   ],
   "source": [
    "auth_data"
   ]
  },
  {
   "cell_type": "code",
   "execution_count": 133,
   "metadata": {},
   "outputs": [
    {
     "data": {
      "text/plain": [
       "reg_ts    1000000\n",
       "uid       1000000\n",
       "dtype: int64"
      ]
     },
     "execution_count": 133,
     "metadata": {},
     "output_type": "execute_result"
    }
   ],
   "source": [
    "reg_data.nunique()"
   ]
  },
  {
   "cell_type": "code",
   "execution_count": 134,
   "metadata": {},
   "outputs": [
    {
     "data": {
      "text/plain": [
       "auth_ts    9180915\n",
       "uid        1000000\n",
       "dtype: int64"
      ]
     },
     "execution_count": 134,
     "metadata": {},
     "output_type": "execute_result"
    }
   ],
   "source": [
    "auth_data.nunique()"
   ]
  },
  {
   "cell_type": "code",
   "execution_count": 135,
   "metadata": {},
   "outputs": [],
   "source": [
    "# Как видим, количество уникальных пользователей 1млн"
   ]
  },
  {
   "cell_type": "code",
   "execution_count": 136,
   "metadata": {},
   "outputs": [],
   "source": [
    "# Найдем пропущенные значения"
   ]
  },
  {
   "cell_type": "code",
   "execution_count": 137,
   "metadata": {},
   "outputs": [
    {
     "data": {
      "text/plain": [
       "reg_ts    0\n",
       "uid       0\n",
       "dtype: int64"
      ]
     },
     "execution_count": 137,
     "metadata": {},
     "output_type": "execute_result"
    }
   ],
   "source": [
    "reg_data.isna().sum()"
   ]
  },
  {
   "cell_type": "code",
   "execution_count": 138,
   "metadata": {},
   "outputs": [
    {
     "data": {
      "text/plain": [
       "auth_ts    0\n",
       "uid        0\n",
       "dtype: int64"
      ]
     },
     "execution_count": 138,
     "metadata": {},
     "output_type": "execute_result"
    }
   ],
   "source": [
    "auth_data.isna().sum()"
   ]
  },
  {
   "cell_type": "code",
   "execution_count": 139,
   "metadata": {},
   "outputs": [],
   "source": [
    "# Найдем дубликаты"
   ]
  },
  {
   "cell_type": "code",
   "execution_count": 140,
   "metadata": {},
   "outputs": [
    {
     "data": {
      "text/plain": [
       "0"
      ]
     },
     "execution_count": 140,
     "metadata": {},
     "output_type": "execute_result"
    }
   ],
   "source": [
    "reg_data.duplicated().sum()"
   ]
  },
  {
   "cell_type": "code",
   "execution_count": 141,
   "metadata": {},
   "outputs": [
    {
     "data": {
      "text/plain": [
       "0"
      ]
     },
     "execution_count": 141,
     "metadata": {},
     "output_type": "execute_result"
    }
   ],
   "source": [
    "auth_data.duplicated().sum()"
   ]
  },
  {
   "cell_type": "code",
   "execution_count": 142,
   "metadata": {},
   "outputs": [],
   "source": [
    " #Переведем время регистрации и авторизации в удобный для дальнейшего анализа формат."
   ]
  },
  {
   "cell_type": "code",
   "execution_count": 143,
   "metadata": {},
   "outputs": [],
   "source": [
    "#В формат datetime для вычислений в когортном анализе\n",
    "reg_data['reg_ts'] = pd.to_datetime(reg_data['reg_ts'], unit='s')\n",
    "auth_data['auth_ts'] = pd.to_datetime(auth_data['auth_ts'], unit='s')"
   ]
  },
  {
   "cell_type": "code",
   "execution_count": 144,
   "metadata": {},
   "outputs": [],
   "source": [
    "#В формат period для удобства визуализации\n",
    "reg_data['reg_day']= reg_data['reg_ts'].dt.to_period('D')\n",
    "auth_data['auth_day']= auth_data['auth_ts'].dt.to_period('D')"
   ]
  },
  {
   "cell_type": "code",
   "execution_count": 145,
   "metadata": {},
   "outputs": [
    {
     "data": {
      "text/html": [
       "<div>\n",
       "<style scoped>\n",
       "    .dataframe tbody tr th:only-of-type {\n",
       "        vertical-align: middle;\n",
       "    }\n",
       "\n",
       "    .dataframe tbody tr th {\n",
       "        vertical-align: top;\n",
       "    }\n",
       "\n",
       "    .dataframe thead th {\n",
       "        text-align: right;\n",
       "    }\n",
       "</style>\n",
       "<table border=\"1\" class=\"dataframe\">\n",
       "  <thead>\n",
       "    <tr style=\"text-align: right;\">\n",
       "      <th></th>\n",
       "      <th>reg_ts</th>\n",
       "      <th>uid</th>\n",
       "      <th>reg_day</th>\n",
       "    </tr>\n",
       "  </thead>\n",
       "  <tbody>\n",
       "    <tr>\n",
       "      <th>0</th>\n",
       "      <td>1998-11-18 09:43:43</td>\n",
       "      <td>1</td>\n",
       "      <td>1998-11-18</td>\n",
       "    </tr>\n",
       "    <tr>\n",
       "      <th>1</th>\n",
       "      <td>1999-07-22 22:38:09</td>\n",
       "      <td>2</td>\n",
       "      <td>1999-07-22</td>\n",
       "    </tr>\n",
       "    <tr>\n",
       "      <th>2</th>\n",
       "      <td>2000-01-13 22:27:27</td>\n",
       "      <td>3</td>\n",
       "      <td>2000-01-13</td>\n",
       "    </tr>\n",
       "    <tr>\n",
       "      <th>3</th>\n",
       "      <td>2000-05-28 14:19:01</td>\n",
       "      <td>4</td>\n",
       "      <td>2000-05-28</td>\n",
       "    </tr>\n",
       "    <tr>\n",
       "      <th>4</th>\n",
       "      <td>2000-09-16 11:21:53</td>\n",
       "      <td>5</td>\n",
       "      <td>2000-09-16</td>\n",
       "    </tr>\n",
       "  </tbody>\n",
       "</table>\n",
       "</div>"
      ],
      "text/plain": [
       "               reg_ts  uid     reg_day\n",
       "0 1998-11-18 09:43:43    1  1998-11-18\n",
       "1 1999-07-22 22:38:09    2  1999-07-22\n",
       "2 2000-01-13 22:27:27    3  2000-01-13\n",
       "3 2000-05-28 14:19:01    4  2000-05-28\n",
       "4 2000-09-16 11:21:53    5  2000-09-16"
      ]
     },
     "execution_count": 145,
     "metadata": {},
     "output_type": "execute_result"
    }
   ],
   "source": [
    "reg_data.head()"
   ]
  },
  {
   "cell_type": "code",
   "execution_count": 146,
   "metadata": {},
   "outputs": [
    {
     "data": {
      "text/html": [
       "<div>\n",
       "<style scoped>\n",
       "    .dataframe tbody tr th:only-of-type {\n",
       "        vertical-align: middle;\n",
       "    }\n",
       "\n",
       "    .dataframe tbody tr th {\n",
       "        vertical-align: top;\n",
       "    }\n",
       "\n",
       "    .dataframe thead th {\n",
       "        text-align: right;\n",
       "    }\n",
       "</style>\n",
       "<table border=\"1\" class=\"dataframe\">\n",
       "  <thead>\n",
       "    <tr style=\"text-align: right;\">\n",
       "      <th></th>\n",
       "      <th>auth_ts</th>\n",
       "      <th>uid</th>\n",
       "      <th>auth_day</th>\n",
       "    </tr>\n",
       "  </thead>\n",
       "  <tbody>\n",
       "    <tr>\n",
       "      <th>0</th>\n",
       "      <td>1998-11-18 09:43:43</td>\n",
       "      <td>1</td>\n",
       "      <td>1998-11-18</td>\n",
       "    </tr>\n",
       "    <tr>\n",
       "      <th>1</th>\n",
       "      <td>1999-07-22 22:38:09</td>\n",
       "      <td>2</td>\n",
       "      <td>1999-07-22</td>\n",
       "    </tr>\n",
       "    <tr>\n",
       "      <th>2</th>\n",
       "      <td>1999-07-25 16:46:46</td>\n",
       "      <td>2</td>\n",
       "      <td>1999-07-25</td>\n",
       "    </tr>\n",
       "    <tr>\n",
       "      <th>3</th>\n",
       "      <td>1999-07-31 03:50:15</td>\n",
       "      <td>2</td>\n",
       "      <td>1999-07-31</td>\n",
       "    </tr>\n",
       "    <tr>\n",
       "      <th>4</th>\n",
       "      <td>1999-08-05 17:49:39</td>\n",
       "      <td>2</td>\n",
       "      <td>1999-08-05</td>\n",
       "    </tr>\n",
       "  </tbody>\n",
       "</table>\n",
       "</div>"
      ],
      "text/plain": [
       "              auth_ts  uid    auth_day\n",
       "0 1998-11-18 09:43:43    1  1998-11-18\n",
       "1 1999-07-22 22:38:09    2  1999-07-22\n",
       "2 1999-07-25 16:46:46    2  1999-07-25\n",
       "3 1999-07-31 03:50:15    2  1999-07-31\n",
       "4 1999-08-05 17:49:39    2  1999-08-05"
      ]
     },
     "execution_count": 146,
     "metadata": {},
     "output_type": "execute_result"
    }
   ],
   "source": [
    "auth_data.head()"
   ]
  },
  {
   "cell_type": "code",
   "execution_count": 147,
   "metadata": {},
   "outputs": [],
   "source": [
    "# Визуализируем данные для общего представления"
   ]
  },
  {
   "cell_type": "code",
   "execution_count": 148,
   "metadata": {},
   "outputs": [
    {
     "data": {
      "text/plain": [
       "Text(0.5, 0, 'Дни')"
      ]
     },
     "execution_count": 148,
     "metadata": {},
     "output_type": "execute_result"
    },
    {
     "data": {
      "image/png": "[encoded data removed]",
      "text/plain": [
       "<Figure size 1008x432 with 2 Axes>"
      ]
     },
     "metadata": {
      "needs_background": "light"
     },
     "output_type": "display_data"
    }
   ],
   "source": [
    "fig, axes = plt.subplots(1, 2, figsize=(14, 6))\n",
    "reg_data.groupby('reg_day').uid.count().plot(ax=axes[0])\n",
    "axes[0].set_title(\"Распределение регистраций по дням\")\n",
    "axes[0].set_ylabel(\"Количество регистраций\")\n",
    "axes[0].set_xlabel(\"Дни\")\n",
    "\n",
    "\n",
    "auth_data.groupby('auth_day').uid.count().plot(ax=axes[1])\n",
    "axes[1].set_title(\"Распределение авторизаций по дням\")\n",
    "axes[1].set_ylabel(\"Количество авторизаций\")\n",
    "axes[1].set_xlabel(\"Дни\")"
   ]
  },
  {
   "cell_type": "code",
   "execution_count": 149,
   "metadata": {},
   "outputs": [
    {
     "name": "stdout",
     "output_type": "stream",
     "text": [
      "Частота авторизаций на пользователя: 9.6\n"
     ]
    }
   ],
   "source": [
    "# Посчитаем частоту авторизация на пользователя\n",
    "frequency_auth = auth_data.auth_ts.count() / auth_data.uid.nunique()\n",
    "print(f\"Частота авторизаций на пользователя: {frequency_auth.round(1)}\")"
   ]
  },
  {
   "cell_type": "code",
   "execution_count": 150,
   "metadata": {},
   "outputs": [],
   "source": [
    "# Графики схожи друг с другом. Количество регистрация и авторизация растет с течением времени.\n",
    "# Активный рост начался с 2017 года."
   ]
  },
  {
   "cell_type": "code",
   "execution_count": 151,
   "metadata": {},
   "outputs": [],
   "source": [
    "# Напишем функцию по построению тепловой карты удержания пользователей (retention rate)"
   ]
  },
  {
   "cell_type": "code",
   "execution_count": 152,
   "metadata": {},
   "outputs": [],
   "source": [
    "def daily_retention_rate(reg_data: pd.DataFrame, auth_data: pd.DataFrame, start_date: str, end_date: str) -> pd.DataFrame:\n",
    "    \"\"\"\n",
    "    Параметры, которые передаются функции:\n",
    "    reg_data - датафрейм с данными регистраций\n",
    "    auth_data - датафрейм с данными авторизаций\n",
    "    start_date, end_date - диапозон интересующих нас дат в формате \"YYYY-MM-DD\"\n",
    "    \n",
    "    \"\"\"\n",
    "    # Преобразуем интересующий нас диапозон дат в формат Period\n",
    "    start_date = pd.to_datetime(start_date).to_period('D')\n",
    "    end_date = pd.to_datetime(end_date).to_period('D')\n",
    "    \n",
    "    # Создаем новые датафреймы фильтруя по диапозону дат\n",
    "    reg_new = reg_data[(reg_data['reg_day'] >= start_date) & (reg_data['reg_day'] <= end_date)].copy()\n",
    "    auth_new = auth_data[(auth_data['auth_day'] >= start_date) & (auth_data['auth_day'] <= end_date)].copy()\n",
    "    \n",
    "    # Создаем когорты по дате регистрации\n",
    "    reg_new['cohort'] = reg_new['reg_ts'].dt.to_period('D')\n",
    "    \n",
    "    # Мержим 2 датафрейма по uid (уникальному айди пользователя)\n",
    "    merged_data = pd.merge(reg_new, auth_new, on='uid', how='left')\n",
    "    \n",
    "    # Добавляем столбец с разницей между днем авторизации и днем регистрации\n",
    "    merged_data['days_since_registration'] = (merged_data['auth_ts'] - merged_data['reg_ts']).dt.days\n",
    "    \n",
    "    # Фильтруем пользователей, которые авторизовались после регистрации\n",
    "    merged_data = merged_data[merged_data['days_since_registration'] >= 0]\n",
    "    \n",
    "    # Считаем количество пользователей по когортам и дням\n",
    "    cohort_data = merged_data.groupby(['cohort', 'days_since_registration'])['uid'].nunique().reset_index()\n",
    "    \n",
    "    # Считаем количество пользователей в каждой когорте\n",
    "    cohort_sizes = reg_new.groupby('cohort')['uid'].nunique().reset_index()\n",
    "    cohort_sizes.rename(columns={'uid': 'cohort_size'}, inplace=True)\n",
    "    \n",
    "    # Мержим количество пользователей в каждой когорте с данными по авторизациям\n",
    "    cohort_data = pd.merge(cohort_data, cohort_sizes, on='cohort')\n",
    "    \n",
    "    # Рассчитываем retention rate\n",
    "    cohort_data['retention_rate'] = cohort_data['uid'] / cohort_data['cohort_size']\n",
    "    \n",
    "    # Пивотируем данные, чтобы получить тепловую карту\n",
    "    cohort_pivot = cohort_data.pivot(index='cohort', columns='days_since_registration', values='retention_rate')\n",
    "    \n",
    "    # Удаляем столбец с 0 днем (день регистрации)\n",
    "    cohort_pivot = cohort_pivot.drop(columns=[0], errors='ignore')\n",
    "    \n",
    "    # Строим тепловую карту\n",
    "    plt.figure(figsize=(20, 16))\n",
    "    sns.heatmap(cohort_pivot, annot=True, fmt=\".1%\", cmap='YlGnBu', cbar=True)\n",
    "    plt.title('Тепловая карта удержания клиентов')\n",
    "    plt.xlabel('Дней со дня регистрации')\n",
    "    plt.ylabel('Когорта')\n",
    "    plt.tight_layout()\n",
    "    plt.show()\n",
    "    \n",
    "    # Получаем медианный retention rate для 1-го дня\n",
    "    first_day_data = cohort_data[cohort_data['days_since_registration'] == 1]\n",
    "    median_first_day_retention = first_day_data['retention_rate'].median()\n",
    "\n",
    "    # Выводим медианный retention rate для 1-го дня\n",
    "    print(f\"Медианный retention rate первого дня: {median_first_day_retention:.2%}\")"
   ]
  },
  {
   "cell_type": "code",
   "execution_count": 153,
   "metadata": {},
   "outputs": [
    {
     "data": {
      "image/png": "[encoded data removed]",
      "text/plain": [
       "<Figure size 1440x1152 with 2 Axes>"
      ]
     },
     "metadata": {
      "needs_background": "light"
     },
     "output_type": "display_data"
    },
    {
     "name": "stdout",
     "output_type": "stream",
     "text": [
      "Медианный retention rate первого дня: 4.02%\n"
     ]
    }
   ],
   "source": [
    "# Выводим тепловую карту, задав интересующий нас диапозон дат\n",
    "daily_retention_rate(reg_data, auth_data, '2020-01-01', '2020-01-31')"
   ]
  },
  {
   "cell_type": "markdown",
   "metadata": {},
   "source": [
    "**Вывод**: Низкий показатель **retention rate** указывает на отсутствие **product/market fit**. Т.е. продукт не покрывает потребность клиента в данном сегменте."
   ]
  },
  {
   "cell_type": "markdown",
   "metadata": {},
   "source": [
    "# Задание 2"
   ]
  },
  {
   "cell_type": "markdown",
   "metadata": {},
   "source": [
    "Имеются результаты A/B теста, в котором двум группам пользователей предлагались различные наборы акционных предложений. Известно, что ARPU в тестовой группе выше на 5%, чем в контрольной. При этом в контрольной группе 1928 игроков из 202103 оказались платящими, а в тестовой – 1805 из 202667.\n",
    "\n",
    "Какой набор предложений можно считать лучшим? Какие метрики стоит проанализировать для принятия правильного решения и как?"
   ]
  },
  {
   "cell_type": "markdown",
   "metadata": {},
   "source": [
    "Перед тем как определить ключевые метрики, взглянем на наши данные, вычислим метрики Revenue, ARPU, ARPPU и Conversion Rate."
   ]
  },
  {
   "cell_type": "code",
   "execution_count": 154,
   "metadata": {},
   "outputs": [],
   "source": [
    "# Проведем разведочный анализ, а также подготовим данные для дальнейшей работы."
   ]
  },
  {
   "cell_type": "code",
   "execution_count": 155,
   "metadata": {},
   "outputs": [],
   "source": [
    "ab_test = pd.read_csv('Проект_1_Задание_2.csv', sep=';')"
   ]
  },
  {
   "cell_type": "code",
   "execution_count": 156,
   "metadata": {},
   "outputs": [
    {
     "data": {
      "text/html": [
       "<div>\n",
       "<style scoped>\n",
       "    .dataframe tbody tr th:only-of-type {\n",
       "        vertical-align: middle;\n",
       "    }\n",
       "\n",
       "    .dataframe tbody tr th {\n",
       "        vertical-align: top;\n",
       "    }\n",
       "\n",
       "    .dataframe thead th {\n",
       "        text-align: right;\n",
       "    }\n",
       "</style>\n",
       "<table border=\"1\" class=\"dataframe\">\n",
       "  <thead>\n",
       "    <tr style=\"text-align: right;\">\n",
       "      <th></th>\n",
       "      <th>user_id</th>\n",
       "      <th>revenue</th>\n",
       "      <th>testgroup</th>\n",
       "    </tr>\n",
       "  </thead>\n",
       "  <tbody>\n",
       "    <tr>\n",
       "      <th>0</th>\n",
       "      <td>1</td>\n",
       "      <td>0</td>\n",
       "      <td>b</td>\n",
       "    </tr>\n",
       "    <tr>\n",
       "      <th>1</th>\n",
       "      <td>2</td>\n",
       "      <td>0</td>\n",
       "      <td>a</td>\n",
       "    </tr>\n",
       "    <tr>\n",
       "      <th>2</th>\n",
       "      <td>3</td>\n",
       "      <td>0</td>\n",
       "      <td>a</td>\n",
       "    </tr>\n",
       "    <tr>\n",
       "      <th>3</th>\n",
       "      <td>4</td>\n",
       "      <td>0</td>\n",
       "      <td>b</td>\n",
       "    </tr>\n",
       "    <tr>\n",
       "      <th>4</th>\n",
       "      <td>5</td>\n",
       "      <td>0</td>\n",
       "      <td>b</td>\n",
       "    </tr>\n",
       "    <tr>\n",
       "      <th>...</th>\n",
       "      <td>...</td>\n",
       "      <td>...</td>\n",
       "      <td>...</td>\n",
       "    </tr>\n",
       "    <tr>\n",
       "      <th>404765</th>\n",
       "      <td>404766</td>\n",
       "      <td>0</td>\n",
       "      <td>a</td>\n",
       "    </tr>\n",
       "    <tr>\n",
       "      <th>404766</th>\n",
       "      <td>404767</td>\n",
       "      <td>0</td>\n",
       "      <td>b</td>\n",
       "    </tr>\n",
       "    <tr>\n",
       "      <th>404767</th>\n",
       "      <td>404768</td>\n",
       "      <td>231</td>\n",
       "      <td>a</td>\n",
       "    </tr>\n",
       "    <tr>\n",
       "      <th>404768</th>\n",
       "      <td>404769</td>\n",
       "      <td>0</td>\n",
       "      <td>a</td>\n",
       "    </tr>\n",
       "    <tr>\n",
       "      <th>404769</th>\n",
       "      <td>404770</td>\n",
       "      <td>0</td>\n",
       "      <td>b</td>\n",
       "    </tr>\n",
       "  </tbody>\n",
       "</table>\n",
       "<p>404770 rows × 3 columns</p>\n",
       "</div>"
      ],
      "text/plain": [
       "        user_id  revenue testgroup\n",
       "0             1        0         b\n",
       "1             2        0         a\n",
       "2             3        0         a\n",
       "3             4        0         b\n",
       "4             5        0         b\n",
       "...         ...      ...       ...\n",
       "404765   404766        0         a\n",
       "404766   404767        0         b\n",
       "404767   404768      231         a\n",
       "404768   404769        0         a\n",
       "404769   404770        0         b\n",
       "\n",
       "[404770 rows x 3 columns]"
      ]
     },
     "execution_count": 156,
     "metadata": {},
     "output_type": "execute_result"
    }
   ],
   "source": [
    "ab_test"
   ]
  },
  {
   "cell_type": "code",
   "execution_count": 157,
   "metadata": {},
   "outputs": [
    {
     "data": {
      "text/plain": [
       "user_id       int64\n",
       "revenue       int64\n",
       "testgroup    object\n",
       "dtype: object"
      ]
     },
     "execution_count": 157,
     "metadata": {},
     "output_type": "execute_result"
    }
   ],
   "source": [
    "ab_test.dtypes"
   ]
  },
  {
   "cell_type": "code",
   "execution_count": 158,
   "metadata": {},
   "outputs": [],
   "source": [
    "# Переводим тип переменной user_id в object\n",
    "ab_test['user_id'] = ab_test.user_id.astype('object')"
   ]
  },
  {
   "cell_type": "code",
   "execution_count": 159,
   "metadata": {},
   "outputs": [
    {
     "data": {
      "text/plain": [
       "user_id      0\n",
       "revenue      0\n",
       "testgroup    0\n",
       "dtype: int64"
      ]
     },
     "execution_count": 159,
     "metadata": {},
     "output_type": "execute_result"
    }
   ],
   "source": [
    "# Найдем пропущенные значения\n",
    "ab_test.isna().sum()"
   ]
  },
  {
   "cell_type": "code",
   "execution_count": 160,
   "metadata": {},
   "outputs": [
    {
     "data": {
      "text/plain": [
       "0"
      ]
     },
     "execution_count": 160,
     "metadata": {},
     "output_type": "execute_result"
    }
   ],
   "source": [
    "# Найдем дубликаты\n",
    "ab_test.duplicated().sum()"
   ]
  },
  {
   "cell_type": "code",
   "execution_count": 161,
   "metadata": {},
   "outputs": [],
   "source": [
    "# Сделаем 2 датафрейма разбив пользователей по группам\n",
    "# Контрольная группа\n",
    "control_group = ab_test.query(\"testgroup == 'a'\")\n",
    "# Тестовая группа\n",
    "test_group = ab_test.query(\"testgroup == 'b'\")"
   ]
  },
  {
   "cell_type": "code",
   "execution_count": 162,
   "metadata": {},
   "outputs": [
    {
     "name": "stdout",
     "output_type": "stream",
     "text": [
      "Количество платящих пользователей в контрольной группе: 1928\n",
      "Количество платящих пользователей в тестовой группе: 1805\n"
     ]
    }
   ],
   "source": [
    "# Найдем количество платящих пользователей в контрольной группе\n",
    "print(f\"Количество платящих пользователей в контрольной группе: {control_group.query('revenue > 0').user_id.count()}\")\n",
    "\n",
    "# Найдем количество платящих пользователей в тестовой группе\n",
    "print(f\"Количество платящих пользователей в тестовой группе: {test_group.query('revenue > 0').user_id.count()}\")"
   ]
  },
  {
   "cell_type": "code",
   "execution_count": 163,
   "metadata": {},
   "outputs": [
    {
     "name": "stdout",
     "output_type": "stream",
     "text": [
      "Общий доход в контрольной группе: 5136189\n",
      "Общий доход в тестовой группе: 5421603\n"
     ]
    }
   ],
   "source": [
    "# Сравним revenue двух групп\n",
    "# Вычислим общий доход в контрольной группе (revenue)\n",
    "print(f\"Общий доход в контрольной группе: {control_group.revenue.sum()}\")\n",
    "\n",
    "# Вычислим общий доход в тестовой группе (revenue)\n",
    "print(f\"Общий доход в тестовой группе: {test_group.revenue.sum()}\")"
   ]
  },
  {
   "cell_type": "code",
   "execution_count": 164,
   "metadata": {},
   "outputs": [],
   "source": [
    "# Сделаем 1 датафрейм с метриками, которые нас интересуют\n",
    "metrics = ab_test.groupby('testgroup')\\\n",
    "               .agg(total_users=('user_id', 'count'),\n",
    "                    paying_users=('revenue', lambda x: (x > 0).sum()),\n",
    "                    total_revenue=('revenue', 'sum'))"
   ]
  },
  {
   "cell_type": "code",
   "execution_count": 165,
   "metadata": {},
   "outputs": [
    {
     "data": {
      "text/html": [
       "<div>\n",
       "<style scoped>\n",
       "    .dataframe tbody tr th:only-of-type {\n",
       "        vertical-align: middle;\n",
       "    }\n",
       "\n",
       "    .dataframe tbody tr th {\n",
       "        vertical-align: top;\n",
       "    }\n",
       "\n",
       "    .dataframe thead th {\n",
       "        text-align: right;\n",
       "    }\n",
       "</style>\n",
       "<table border=\"1\" class=\"dataframe\">\n",
       "  <thead>\n",
       "    <tr style=\"text-align: right;\">\n",
       "      <th></th>\n",
       "      <th>total_users</th>\n",
       "      <th>paying_users</th>\n",
       "      <th>total_revenue</th>\n",
       "    </tr>\n",
       "    <tr>\n",
       "      <th>testgroup</th>\n",
       "      <th></th>\n",
       "      <th></th>\n",
       "      <th></th>\n",
       "    </tr>\n",
       "  </thead>\n",
       "  <tbody>\n",
       "    <tr>\n",
       "      <th>a</th>\n",
       "      <td>202103</td>\n",
       "      <td>1928</td>\n",
       "      <td>5136189</td>\n",
       "    </tr>\n",
       "    <tr>\n",
       "      <th>b</th>\n",
       "      <td>202667</td>\n",
       "      <td>1805</td>\n",
       "      <td>5421603</td>\n",
       "    </tr>\n",
       "  </tbody>\n",
       "</table>\n",
       "</div>"
      ],
      "text/plain": [
       "           total_users  paying_users  total_revenue\n",
       "testgroup                                          \n",
       "a               202103          1928        5136189\n",
       "b               202667          1805        5421603"
      ]
     },
     "execution_count": 165,
     "metadata": {},
     "output_type": "execute_result"
    }
   ],
   "source": [
    "metrics"
   ]
  },
  {
   "cell_type": "code",
   "execution_count": 166,
   "metadata": {},
   "outputs": [],
   "source": [
    "# Найдем средний доход на пользователя (ARPU)\n",
    "metrics['ARPU'] = np.round(metrics.total_revenue / metrics.total_users, 1)\n",
    "# Найдем средний доход на платящего пользователя (ARPPU)\n",
    "metrics['ARPPU'] = np.round(metrics.total_revenue / metrics.paying_users, 2)\n",
    "# Найдем конверсию в платящего пользователя (Conversion Rate)\n",
    "metrics['CR'] = np.round(metrics.paying_users / metrics.total_users * 100, 2)"
   ]
  },
  {
   "cell_type": "code",
   "execution_count": 167,
   "metadata": {},
   "outputs": [
    {
     "data": {
      "text/html": [
       "<div>\n",
       "<style scoped>\n",
       "    .dataframe tbody tr th:only-of-type {\n",
       "        vertical-align: middle;\n",
       "    }\n",
       "\n",
       "    .dataframe tbody tr th {\n",
       "        vertical-align: top;\n",
       "    }\n",
       "\n",
       "    .dataframe thead th {\n",
       "        text-align: right;\n",
       "    }\n",
       "</style>\n",
       "<table border=\"1\" class=\"dataframe\">\n",
       "  <thead>\n",
       "    <tr style=\"text-align: right;\">\n",
       "      <th></th>\n",
       "      <th>total_users</th>\n",
       "      <th>paying_users</th>\n",
       "      <th>total_revenue</th>\n",
       "      <th>ARPU</th>\n",
       "      <th>ARPPU</th>\n",
       "      <th>CR</th>\n",
       "    </tr>\n",
       "    <tr>\n",
       "      <th>testgroup</th>\n",
       "      <th></th>\n",
       "      <th></th>\n",
       "      <th></th>\n",
       "      <th></th>\n",
       "      <th></th>\n",
       "      <th></th>\n",
       "    </tr>\n",
       "  </thead>\n",
       "  <tbody>\n",
       "    <tr>\n",
       "      <th>a</th>\n",
       "      <td>202103</td>\n",
       "      <td>1928</td>\n",
       "      <td>5136189</td>\n",
       "      <td>25.4</td>\n",
       "      <td>2664.00</td>\n",
       "      <td>0.95</td>\n",
       "    </tr>\n",
       "    <tr>\n",
       "      <th>b</th>\n",
       "      <td>202667</td>\n",
       "      <td>1805</td>\n",
       "      <td>5421603</td>\n",
       "      <td>26.8</td>\n",
       "      <td>3003.66</td>\n",
       "      <td>0.89</td>\n",
       "    </tr>\n",
       "  </tbody>\n",
       "</table>\n",
       "</div>"
      ],
      "text/plain": [
       "           total_users  paying_users  total_revenue  ARPU    ARPPU    CR\n",
       "testgroup                                                               \n",
       "a               202103          1928        5136189  25.4  2664.00  0.95\n",
       "b               202667          1805        5421603  26.8  3003.66  0.89"
      ]
     },
     "execution_count": 167,
     "metadata": {},
     "output_type": "execute_result"
    }
   ],
   "source": [
    "metrics"
   ]
  },
  {
   "cell_type": "code",
   "execution_count": 168,
   "metadata": {},
   "outputs": [],
   "source": [
    "# Прежде чем переходить к стат тестам и проверке гипотез, проверим данные на выбросы."
   ]
  },
  {
   "cell_type": "code",
   "execution_count": 169,
   "metadata": {},
   "outputs": [],
   "source": [
    "# Взглянем на описательные характеристики контрольной и тестовых групп"
   ]
  },
  {
   "cell_type": "code",
   "execution_count": 170,
   "metadata": {},
   "outputs": [
    {
     "data": {
      "text/html": [
       "<div>\n",
       "<style scoped>\n",
       "    .dataframe tbody tr th:only-of-type {\n",
       "        vertical-align: middle;\n",
       "    }\n",
       "\n",
       "    .dataframe tbody tr th {\n",
       "        vertical-align: top;\n",
       "    }\n",
       "\n",
       "    .dataframe thead th {\n",
       "        text-align: right;\n",
       "    }\n",
       "</style>\n",
       "<table border=\"1\" class=\"dataframe\">\n",
       "  <thead>\n",
       "    <tr style=\"text-align: right;\">\n",
       "      <th></th>\n",
       "      <th>revenue</th>\n",
       "    </tr>\n",
       "  </thead>\n",
       "  <tbody>\n",
       "    <tr>\n",
       "      <th>count</th>\n",
       "      <td>202103.000000</td>\n",
       "    </tr>\n",
       "    <tr>\n",
       "      <th>mean</th>\n",
       "      <td>25.413720</td>\n",
       "    </tr>\n",
       "    <tr>\n",
       "      <th>std</th>\n",
       "      <td>920.768137</td>\n",
       "    </tr>\n",
       "    <tr>\n",
       "      <th>min</th>\n",
       "      <td>0.000000</td>\n",
       "    </tr>\n",
       "    <tr>\n",
       "      <th>25%</th>\n",
       "      <td>0.000000</td>\n",
       "    </tr>\n",
       "    <tr>\n",
       "      <th>50%</th>\n",
       "      <td>0.000000</td>\n",
       "    </tr>\n",
       "    <tr>\n",
       "      <th>75%</th>\n",
       "      <td>0.000000</td>\n",
       "    </tr>\n",
       "    <tr>\n",
       "      <th>max</th>\n",
       "      <td>37433.000000</td>\n",
       "    </tr>\n",
       "  </tbody>\n",
       "</table>\n",
       "</div>"
      ],
      "text/plain": [
       "             revenue\n",
       "count  202103.000000\n",
       "mean       25.413720\n",
       "std       920.768137\n",
       "min         0.000000\n",
       "25%         0.000000\n",
       "50%         0.000000\n",
       "75%         0.000000\n",
       "max     37433.000000"
      ]
     },
     "execution_count": 170,
     "metadata": {},
     "output_type": "execute_result"
    }
   ],
   "source": [
    "control_group.describe()"
   ]
  },
  {
   "cell_type": "code",
   "execution_count": 171,
   "metadata": {},
   "outputs": [
    {
     "data": {
      "text/html": [
       "<div>\n",
       "<style scoped>\n",
       "    .dataframe tbody tr th:only-of-type {\n",
       "        vertical-align: middle;\n",
       "    }\n",
       "\n",
       "    .dataframe tbody tr th {\n",
       "        vertical-align: top;\n",
       "    }\n",
       "\n",
       "    .dataframe thead th {\n",
       "        text-align: right;\n",
       "    }\n",
       "</style>\n",
       "<table border=\"1\" class=\"dataframe\">\n",
       "  <thead>\n",
       "    <tr style=\"text-align: right;\">\n",
       "      <th></th>\n",
       "      <th>revenue</th>\n",
       "    </tr>\n",
       "  </thead>\n",
       "  <tbody>\n",
       "    <tr>\n",
       "      <th>count</th>\n",
       "      <td>202667.000000</td>\n",
       "    </tr>\n",
       "    <tr>\n",
       "      <th>mean</th>\n",
       "      <td>26.751287</td>\n",
       "    </tr>\n",
       "    <tr>\n",
       "      <th>std</th>\n",
       "      <td>287.324162</td>\n",
       "    </tr>\n",
       "    <tr>\n",
       "      <th>min</th>\n",
       "      <td>0.000000</td>\n",
       "    </tr>\n",
       "    <tr>\n",
       "      <th>25%</th>\n",
       "      <td>0.000000</td>\n",
       "    </tr>\n",
       "    <tr>\n",
       "      <th>50%</th>\n",
       "      <td>0.000000</td>\n",
       "    </tr>\n",
       "    <tr>\n",
       "      <th>75%</th>\n",
       "      <td>0.000000</td>\n",
       "    </tr>\n",
       "    <tr>\n",
       "      <th>max</th>\n",
       "      <td>4000.000000</td>\n",
       "    </tr>\n",
       "  </tbody>\n",
       "</table>\n",
       "</div>"
      ],
      "text/plain": [
       "             revenue\n",
       "count  202667.000000\n",
       "mean       26.751287\n",
       "std       287.324162\n",
       "min         0.000000\n",
       "25%         0.000000\n",
       "50%         0.000000\n",
       "75%         0.000000\n",
       "max      4000.000000"
      ]
     },
     "execution_count": 171,
     "metadata": {},
     "output_type": "execute_result"
    }
   ],
   "source": [
    "test_group.describe()"
   ]
  },
  {
   "cell_type": "code",
   "execution_count": 172,
   "metadata": {},
   "outputs": [],
   "source": [
    "# Бросается в глаза разница стандартном отклонении и  в максимальном значение revenue\n",
    "# В дальнейшем анализе нужно проверить данные на выбросы, оценить как они влияют на группу и принять решение, что с ними делать."
   ]
  },
  {
   "cell_type": "code",
   "execution_count": 173,
   "metadata": {},
   "outputs": [],
   "source": [
    "# Используем boxplot для визуализации распределения revenue в группах"
   ]
  },
  {
   "cell_type": "code",
   "execution_count": 174,
   "metadata": {},
   "outputs": [
    {
     "data": {
      "text/plain": [
       "<matplotlib.axes._subplots.AxesSubplot at 0x7fa916efdc18>"
      ]
     },
     "execution_count": 174,
     "metadata": {},
     "output_type": "execute_result"
    },
    {
     "data": {
      "image/png": "[encoded data removed]",
      "text/plain": [
       "<Figure size 432x288 with 1 Axes>"
      ]
     },
     "metadata": {
      "needs_background": "light"
     },
     "output_type": "display_data"
    }
   ],
   "source": [
    "sns.boxplot(x='testgroup', y='revenue', data=ab_test)"
   ]
  },
  {
   "cell_type": "code",
   "execution_count": 175,
   "metadata": {},
   "outputs": [],
   "source": [
    "# Согласно boxplot, видим, что в контрольной группе присутствуют выбросы."
   ]
  },
  {
   "cell_type": "code",
   "execution_count": 176,
   "metadata": {},
   "outputs": [],
   "source": [
    "# Используем статистический метод z-score для определения этих выбросов."
   ]
  },
  {
   "cell_type": "markdown",
   "metadata": {},
   "source": [
    "Формула Z-оценки:\n",
    "z = (x - μ) / σ , \n",
    "\n",
    "где:\n",
    "\n",
    "    X — значение наблюдения,\n",
    "\n",
    "    μ — среднее значение контрольной группы,\n",
    "\n",
    "    σ — стандартное отклонение контрольной группы."
   ]
  },
  {
   "cell_type": "code",
   "execution_count": 177,
   "metadata": {},
   "outputs": [
    {
     "data": {
      "text/plain": [
       "416       37324.0\n",
       "4428      37304.0\n",
       "5777      37315.0\n",
       "8065      37307.0\n",
       "8743      37334.0\n",
       "           ...   \n",
       "360696    37347.0\n",
       "378668    37297.0\n",
       "389341    37298.0\n",
       "394580    37302.0\n",
       "399294    37321.0\n",
       "Name: revenue, Length: 123, dtype: float64"
      ]
     },
     "execution_count": 177,
     "metadata": {},
     "output_type": "execute_result"
    }
   ],
   "source": [
    "mean_control = control_group.mean()\n",
    "std_control = control_group.std()\n",
    "\n",
    "# Рассчитываем Z-оценки для наблюдений в контрольной группе согласно формуле\n",
    "z_scores = (control_group - mean_control) / std_control\n",
    "\n",
    "# Устанавливаем порог для выбросов  Z > 3\n",
    "anomaly_users = control_group[z_scores.abs() > 3]\n",
    "anomaly_users = anomaly_users.query('revenue > 0')['revenue']\n",
    "\n",
    "anomaly_users"
   ]
  },
  {
   "cell_type": "code",
   "execution_count": 178,
   "metadata": {},
   "outputs": [
    {
     "name": "stdout",
     "output_type": "stream",
     "text": [
      "Количество выбросов: 123\n"
     ]
    }
   ],
   "source": [
    "# Находим количество выбросов\n",
    "print(f\"Количество выбросов: {anomaly_users.count()}\")"
   ]
  },
  {
   "cell_type": "code",
   "execution_count": 179,
   "metadata": {},
   "outputs": [
    {
     "name": "stdout",
     "output_type": "stream",
     "text": [
      "Общий доход пользователей: 4590252.0\n"
     ]
    }
   ],
   "source": [
    "# Находим revenue этих пользователей\n",
    "print(f\"Общий доход пользователей: {anomaly_users.sum()}\")"
   ]
  },
  {
   "cell_type": "code",
   "execution_count": 180,
   "metadata": {},
   "outputs": [
    {
     "name": "stdout",
     "output_type": "stream",
     "text": [
      "ARPU: 37319.1\n"
     ]
    }
   ],
   "source": [
    "# Находим ARPU этих пользователей\n",
    "print(f\"ARPU: {anomaly_users.mean().round(1)}\")"
   ]
  },
  {
   "cell_type": "code",
   "execution_count": 181,
   "metadata": {},
   "outputs": [],
   "source": [
    "# Оценим влияние этих пользователей на общие значения контрольной группы."
   ]
  },
  {
   "cell_type": "code",
   "execution_count": 182,
   "metadata": {},
   "outputs": [
    {
     "data": {
      "text/plain": [
       "6.38"
      ]
     },
     "execution_count": 182,
     "metadata": {},
     "output_type": "execute_result"
    }
   ],
   "source": [
    "# Вычислим долю пользователей (выбросов) в количестве платящих пользователей всей группы\n",
    "round((anomaly_users.count() / control_group.query('revenue > 0').user_id.count() * 100), 2)"
   ]
  },
  {
   "cell_type": "code",
   "execution_count": 183,
   "metadata": {},
   "outputs": [
    {
     "data": {
      "text/plain": [
       "89.37"
      ]
     },
     "execution_count": 183,
     "metadata": {},
     "output_type": "execute_result"
    }
   ],
   "source": [
    "# Вычислим долю revenue выбросов в revenue всей группы\n",
    "round((anomaly_users.sum() / control_group.revenue.sum() * 100), 2)"
   ]
  },
  {
   "cell_type": "code",
   "execution_count": 184,
   "metadata": {},
   "outputs": [],
   "source": [
    "# Доля пользователей незначительна (6%), но доля revenue (89%) ставит вопрос о том, стоить ли учитывать данные выбросы или нет."
   ]
  },
  {
   "cell_type": "code",
   "execution_count": 185,
   "metadata": {},
   "outputs": [
    {
     "data": {
      "text/html": [
       "<div>\n",
       "<style scoped>\n",
       "    .dataframe tbody tr th:only-of-type {\n",
       "        vertical-align: middle;\n",
       "    }\n",
       "\n",
       "    .dataframe tbody tr th {\n",
       "        vertical-align: top;\n",
       "    }\n",
       "\n",
       "    .dataframe thead th {\n",
       "        text-align: right;\n",
       "    }\n",
       "</style>\n",
       "<table border=\"1\" class=\"dataframe\">\n",
       "  <thead>\n",
       "    <tr style=\"text-align: right;\">\n",
       "      <th></th>\n",
       "      <th>revenue</th>\n",
       "    </tr>\n",
       "  </thead>\n",
       "  <tbody>\n",
       "    <tr>\n",
       "      <th>count</th>\n",
       "      <td>201980.000000</td>\n",
       "    </tr>\n",
       "    <tr>\n",
       "      <th>mean</th>\n",
       "      <td>2.702926</td>\n",
       "    </tr>\n",
       "    <tr>\n",
       "      <th>std</th>\n",
       "      <td>28.985815</td>\n",
       "    </tr>\n",
       "    <tr>\n",
       "      <th>min</th>\n",
       "      <td>0.000000</td>\n",
       "    </tr>\n",
       "    <tr>\n",
       "      <th>25%</th>\n",
       "      <td>0.000000</td>\n",
       "    </tr>\n",
       "    <tr>\n",
       "      <th>50%</th>\n",
       "      <td>0.000000</td>\n",
       "    </tr>\n",
       "    <tr>\n",
       "      <th>75%</th>\n",
       "      <td>0.000000</td>\n",
       "    </tr>\n",
       "    <tr>\n",
       "      <th>max</th>\n",
       "      <td>400.000000</td>\n",
       "    </tr>\n",
       "  </tbody>\n",
       "</table>\n",
       "</div>"
      ],
      "text/plain": [
       "             revenue\n",
       "count  201980.000000\n",
       "mean        2.702926\n",
       "std        28.985815\n",
       "min         0.000000\n",
       "25%         0.000000\n",
       "50%         0.000000\n",
       "75%         0.000000\n",
       "max       400.000000"
      ]
     },
     "execution_count": 185,
     "metadata": {},
     "output_type": "execute_result"
    }
   ],
   "source": [
    "# Посмотрим на значения в контрольной группе, убрав выбросы.\n",
    "anomaly_min = anomaly_users.min()\n",
    "control_group_clear = control_group.query('revenue < @anomaly_min')\n",
    "control_group_clear.describe()"
   ]
  },
  {
   "cell_type": "code",
   "execution_count": 186,
   "metadata": {},
   "outputs": [],
   "source": [
    "# Сделаем 1 датафрейм со всеми метриками, убрав выбросы\n",
    "ab_test_clear = ab_test.query('revenue < @anomaly_min')\n",
    "metrics_clear = ab_test_clear.groupby('testgroup')\\\n",
    "               .agg(total_users = ('user_id', 'count'),\n",
    "                    paying_users = ('revenue', lambda x: (x > 0).sum()),\n",
    "                    total_revenue = ('revenue', 'sum'))"
   ]
  },
  {
   "cell_type": "code",
   "execution_count": 187,
   "metadata": {},
   "outputs": [],
   "source": [
    "# Найдем средний доход на пользователя (ARPU)\n",
    "metrics_clear['ARPU'] = np.round(metrics_clear.total_revenue / metrics_clear.total_users, 1)\n",
    "# Найдем средний доход на платящего пользователя (ARPPU)\n",
    "metrics_clear['ARPPU'] = np.round(metrics_clear.total_revenue / metrics_clear.paying_users, 2)\n",
    "# Найдем конверсию в платящего пользователя (Conversion Rate)\n",
    "metrics_clear['CR'] = np.round(metrics_clear.paying_users / metrics_clear.total_users * 100, 2)"
   ]
  },
  {
   "cell_type": "code",
   "execution_count": 188,
   "metadata": {},
   "outputs": [],
   "source": [
    "# Сравним значения метрик с включая выбросы и без"
   ]
  },
  {
   "cell_type": "code",
   "execution_count": 189,
   "metadata": {},
   "outputs": [
    {
     "data": {
      "text/html": [
       "<div>\n",
       "<style scoped>\n",
       "    .dataframe tbody tr th:only-of-type {\n",
       "        vertical-align: middle;\n",
       "    }\n",
       "\n",
       "    .dataframe tbody tr th {\n",
       "        vertical-align: top;\n",
       "    }\n",
       "\n",
       "    .dataframe thead th {\n",
       "        text-align: right;\n",
       "    }\n",
       "</style>\n",
       "<table border=\"1\" class=\"dataframe\">\n",
       "  <thead>\n",
       "    <tr style=\"text-align: right;\">\n",
       "      <th></th>\n",
       "      <th>total_users</th>\n",
       "      <th>paying_users</th>\n",
       "      <th>total_revenue</th>\n",
       "      <th>ARPU</th>\n",
       "      <th>ARPPU</th>\n",
       "      <th>CR</th>\n",
       "    </tr>\n",
       "    <tr>\n",
       "      <th>testgroup</th>\n",
       "      <th></th>\n",
       "      <th></th>\n",
       "      <th></th>\n",
       "      <th></th>\n",
       "      <th></th>\n",
       "      <th></th>\n",
       "    </tr>\n",
       "  </thead>\n",
       "  <tbody>\n",
       "    <tr>\n",
       "      <th>a</th>\n",
       "      <td>201980</td>\n",
       "      <td>1805</td>\n",
       "      <td>545937</td>\n",
       "      <td>2.7</td>\n",
       "      <td>302.46</td>\n",
       "      <td>0.89</td>\n",
       "    </tr>\n",
       "    <tr>\n",
       "      <th>b</th>\n",
       "      <td>202667</td>\n",
       "      <td>1805</td>\n",
       "      <td>5421603</td>\n",
       "      <td>26.8</td>\n",
       "      <td>3003.66</td>\n",
       "      <td>0.89</td>\n",
       "    </tr>\n",
       "  </tbody>\n",
       "</table>\n",
       "</div>"
      ],
      "text/plain": [
       "           total_users  paying_users  total_revenue  ARPU    ARPPU    CR\n",
       "testgroup                                                               \n",
       "a               201980          1805         545937   2.7   302.46  0.89\n",
       "b               202667          1805        5421603  26.8  3003.66  0.89"
      ]
     },
     "execution_count": 189,
     "metadata": {},
     "output_type": "execute_result"
    }
   ],
   "source": [
    "metrics_clear"
   ]
  },
  {
   "cell_type": "code",
   "execution_count": 190,
   "metadata": {},
   "outputs": [
    {
     "data": {
      "text/html": [
       "<div>\n",
       "<style scoped>\n",
       "    .dataframe tbody tr th:only-of-type {\n",
       "        vertical-align: middle;\n",
       "    }\n",
       "\n",
       "    .dataframe tbody tr th {\n",
       "        vertical-align: top;\n",
       "    }\n",
       "\n",
       "    .dataframe thead th {\n",
       "        text-align: right;\n",
       "    }\n",
       "</style>\n",
       "<table border=\"1\" class=\"dataframe\">\n",
       "  <thead>\n",
       "    <tr style=\"text-align: right;\">\n",
       "      <th></th>\n",
       "      <th>total_users</th>\n",
       "      <th>paying_users</th>\n",
       "      <th>total_revenue</th>\n",
       "      <th>ARPU</th>\n",
       "      <th>ARPPU</th>\n",
       "      <th>CR</th>\n",
       "    </tr>\n",
       "    <tr>\n",
       "      <th>testgroup</th>\n",
       "      <th></th>\n",
       "      <th></th>\n",
       "      <th></th>\n",
       "      <th></th>\n",
       "      <th></th>\n",
       "      <th></th>\n",
       "    </tr>\n",
       "  </thead>\n",
       "  <tbody>\n",
       "    <tr>\n",
       "      <th>a</th>\n",
       "      <td>202103</td>\n",
       "      <td>1928</td>\n",
       "      <td>5136189</td>\n",
       "      <td>25.4</td>\n",
       "      <td>2664.00</td>\n",
       "      <td>0.95</td>\n",
       "    </tr>\n",
       "    <tr>\n",
       "      <th>b</th>\n",
       "      <td>202667</td>\n",
       "      <td>1805</td>\n",
       "      <td>5421603</td>\n",
       "      <td>26.8</td>\n",
       "      <td>3003.66</td>\n",
       "      <td>0.89</td>\n",
       "    </tr>\n",
       "  </tbody>\n",
       "</table>\n",
       "</div>"
      ],
      "text/plain": [
       "           total_users  paying_users  total_revenue  ARPU    ARPPU    CR\n",
       "testgroup                                                               \n",
       "a               202103          1928        5136189  25.4  2664.00  0.95\n",
       "b               202667          1805        5421603  26.8  3003.66  0.89"
      ]
     },
     "execution_count": 190,
     "metadata": {},
     "output_type": "execute_result"
    }
   ],
   "source": [
    "metrics"
   ]
  },
  {
   "cell_type": "markdown",
   "metadata": {},
   "source": [
    "В контрольной группе 123 пользователя (всего 6% платящих) принесли 89% дохода. Это говорит о том, что большая часть дохода в контрольной группе поступает от небольшой группы пользователей\n",
    "\n",
    "Такие выбросы могут значительно исказить общую картину и могут быть не репрезентативными для всех пользователей. В идеале они не должны влиять на общий анализ, так как они могут не отражать поведение большинства игроков.\n",
    "\n",
    "Контекст выбросов: Нужно убедиться, что выбросы — это не часть важной категории пользователей (например, лояльные игроки, которые могут быть стратегически важны для бизнеса).\n",
    "\n",
    "Если цель предложения - это активно платящие клиентов (пользователи приносящие высокий доход), то выбросы стоит учитывать.\n",
    "У нас недостаточно информации о роде акционных предложений и о категории данных пользователей (лояльные игроки или случайный выброс). \n",
    "\n",
    "На основе имеющихся данных предположим, что данный выброс обусловлен природой акционных предложений:\n",
    "1. Набор акционных предложений в контрольной группе был ориентирован на повышение количества высокоплатящих пользователей (Например акции на дорогостоящие предметы в игре)\n",
    "2. В то время как набор акционных предложений в тестовой группе был ориентирован на повышение среднего чека для большинства пользователей (Например акции на малостоящие, но востребованные предметы)"
   ]
  },
  {
   "cell_type": "markdown",
   "metadata": {},
   "source": [
    "Для начала определим ключевые метрики, на которые должен ориентироваться продукт:\n",
    "\n",
    "1. Целевая метрика **Средний доход на пользователя (ARPU)** - ключевая метрика для данного продукта, так как она прямо влияет на общий доход (Total Revenue) и легче тестировать статистически.\n",
    "\n",
    "\n",
    "2. Прокси метрика **Средний доход на платящего пользователя (ARPPU)** - метрика, которая объясняет динамику ARPU. Если ARPPU растёт при стабильной конверсии, это говорит о успешной монетизации продукта.\n",
    "\n",
    "\n",
    "3. Барьерная метрики **Конверсия в платящего (Conversion Rate)** - метрика, которую нельзя ухудшать. Её падение может компенсироваться ростом ARPPU, но если конверсия снижается критически, то это приведет к негативным последствиям для продукта.."
   ]
  },
  {
   "cell_type": "markdown",
   "metadata": {},
   "source": [
    "***Оставляем выбросы и проведем статистические тесты***"
   ]
  },
  {
   "cell_type": "markdown",
   "metadata": {},
   "source": [
    "**1. Проверка распределений на нормальность**"
   ]
  },
  {
   "cell_type": "code",
   "execution_count": 191,
   "metadata": {},
   "outputs": [],
   "source": [
    "control = control_group.revenue\n",
    "test = test_group.revenue"
   ]
  },
  {
   "cell_type": "markdown",
   "metadata": {},
   "source": [
    "Формируем гипотезы:\n",
    "    \n",
    "   **H0**: данные группы распределены **нормально**   \n",
    "   \n",
    "   **H1**: данные группы распределены **ненормально**"
   ]
  },
  {
   "cell_type": "code",
   "execution_count": 192,
   "metadata": {},
   "outputs": [],
   "source": [
    "# Проведем тест Пирсона"
   ]
  },
  {
   "cell_type": "code",
   "execution_count": 193,
   "metadata": {},
   "outputs": [
    {
     "data": {
      "text/plain": [
       "NormaltestResult(statistic=585152.7312728433, pvalue=0.0)"
      ]
     },
     "execution_count": 193,
     "metadata": {},
     "output_type": "execute_result"
    }
   ],
   "source": [
    "# Для контрольной группы\n",
    "ss.normaltest(control)"
   ]
  },
  {
   "cell_type": "code",
   "execution_count": 194,
   "metadata": {},
   "outputs": [
    {
     "data": {
      "text/plain": [
       "NormaltestResult(statistic=326622.39540856465, pvalue=0.0)"
      ]
     },
     "execution_count": 194,
     "metadata": {},
     "output_type": "execute_result"
    }
   ],
   "source": [
    "# Для тестовой группы\n",
    "ss.normaltest(test)"
   ]
  },
  {
   "cell_type": "markdown",
   "metadata": {},
   "source": [
    "Отвергаем нулевые гипотезы для обеих групп - распределения являются **ненормальными**."
   ]
  },
  {
   "cell_type": "markdown",
   "metadata": {},
   "source": [
    "**2.Проверка равенства дисперсий**"
   ]
  },
  {
   "cell_type": "markdown",
   "metadata": {},
   "source": [
    "Формируем гипотезы:\n",
    "    \n",
    "   **H0**: дисперсии **не имеют** статистически значимых различий\n",
    "   \n",
    "   **H1**: дисперсии **имеют** статистически значимые различия"
   ]
  },
  {
   "cell_type": "code",
   "execution_count": 195,
   "metadata": {},
   "outputs": [
    {
     "name": "stdout",
     "output_type": "stream",
     "text": [
      "Statistic: 0.3896289474701388\n",
      "P-Value: 0.5324948591043842\n",
      "Нет статистически значимого различия между группами.\n"
     ]
    }
   ],
   "source": [
    "# Проведем тест Левена\n",
    "levene_statistic, levene_p_value = ss.levene(control, test)\n",
    "\n",
    "print(f\"Statistic: {levene_statistic}\")\n",
    "print(f\"P-Value: {levene_p_value}\")\n",
    "\n",
    "if levene_p_value < 0.05:\n",
    "    print(\"Есть статистически значимое различие между группами.\")\n",
    "else:\n",
    "    print(\"Нет статистически значимого различия между группами.\")"
   ]
  },
  {
   "cell_type": "markdown",
   "metadata": {},
   "source": [
    "Принимаем нулевую гипотезу, так как статистически значимых различий нет, т.е. дисперсии примерно равны."
   ]
  },
  {
   "cell_type": "markdown",
   "metadata": {},
   "source": [
    "Так как выборки являются достаточно большими и присутствуют выбросы, **t-тест Уэлча** несмотря на ненормальность распределений, подойдет для наших вычислений"
   ]
  },
  {
   "cell_type": "markdown",
   "metadata": {},
   "source": [
    "**3. t-тест для ARPU**"
   ]
  },
  {
   "cell_type": "markdown",
   "metadata": {},
   "source": [
    "   **H0**: ARPU двух групп **не имеют** статистически значимых различий   \n",
    "   \n",
    "   **H1**: ARPU двух групп **имеют** статистически значимые различия"
   ]
  },
  {
   "cell_type": "code",
   "execution_count": 198,
   "metadata": {},
   "outputs": [
    {
     "name": "stdout",
     "output_type": "stream",
     "text": [
      "Statistic: -0.6242026493616787\n",
      "P-Value: 0.532494858971837\n",
      "Нет статистически значимого различия между группами.\n"
     ]
    }
   ],
   "source": [
    "# Проведем t-тест Уэлча\n",
    "t_statistic, p_value = ss.ttest_ind(control, test)\n",
    "\n",
    "print(f\"Statistic: {t_statistic}\")\n",
    "print(f\"P-Value: {p_value}\")\n",
    "\n",
    "if p_value < 0.05:\n",
    "    print(\"Есть статистически значимое различие между группами.\")\n",
    "else:\n",
    "    print(\"Нет статистически значимого различия между группами.\")"
   ]
  },
  {
   "cell_type": "markdown",
   "metadata": {},
   "source": [
    "Принимаем нулевую гипотезу, как как две группы **не имеют** статистически значимые различия"
   ]
  },
  {
   "cell_type": "markdown",
   "metadata": {},
   "source": [
    "**4. t-тест для ARPPU**"
   ]
  },
  {
   "cell_type": "markdown",
   "metadata": {},
   "source": [
    "   **H0**: ARPU двух групп **не имеют** статистически значимых различий   \n",
    "   \n",
    "   **H1**: ARPU двух групп **имеют** статистически значимые различия"
   ]
  },
  {
   "cell_type": "code",
   "execution_count": 199,
   "metadata": {},
   "outputs": [],
   "source": [
    "control_pay = control_group.query(\"revenue > 0\").revenue\n",
    "test_pay = test_group.query(\"revenue > 0\").revenue"
   ]
  },
  {
   "cell_type": "code",
   "execution_count": 200,
   "metadata": {},
   "outputs": [
    {
     "name": "stdout",
     "output_type": "stream",
     "text": [
      "Statistic: -1.5917100176862002\n",
      "P-Value: 0.11153459157259504\n",
      "Нет статистически значимого различия между группами.\n"
     ]
    }
   ],
   "source": [
    "t_statistic, p_value = ss.ttest_ind(control_pay, test_pay)\n",
    "\n",
    "print(f\"Statistic: {t_statistic}\")\n",
    "print(f\"P-Value: {p_value}\")\n",
    "\n",
    "if p_value < 0.05:\n",
    "    print(\"Есть статистически значимое различие между группами.\")\n",
    "else:\n",
    "    print(\"Нет статистически значимого различия между группами.\")"
   ]
  },
  {
   "cell_type": "markdown",
   "metadata": {},
   "source": [
    "Принимаем нулевую гипотезу, как как две группы **не имеют** статистически значимые различия"
   ]
  },
  {
   "cell_type": "markdown",
   "metadata": {},
   "source": [
    "**5. Z-тест для конверсии (conversion rate)**"
   ]
  },
  {
   "cell_type": "markdown",
   "metadata": {},
   "source": [
    "При большом размере выборки (200к в каждой группе) можно применить **Z-тест для пропорций** даже в случае, если данные имеют ненормальное распределение"
   ]
  },
  {
   "cell_type": "markdown",
   "metadata": {},
   "source": [
    "\n",
    "\n",
    "   **H0**: Конверсии в двух группах **не имеют** стат значимых различий.\n",
    "\n",
    "   **H1**: Конверсии в двух группах **имеют** стат значимые различия."
   ]
  },
  {
   "cell_type": "code",
   "execution_count": 201,
   "metadata": {},
   "outputs": [],
   "source": [
    "# Сделаем 2 перменные с платящими клиентами и общим количеством клиентов.\n",
    "paying_users = metrics['paying_users']\n",
    "total_users = metrics['total_users']"
   ]
  },
  {
   "cell_type": "code",
   "execution_count": 202,
   "metadata": {},
   "outputs": [
    {
     "name": "stdout",
     "output_type": "stream",
     "text": [
      "Z-статистика: 2.108028495889841\n",
      "P-value: 0.035028524642854865\n"
     ]
    }
   ],
   "source": [
    "# Применим Z-тест для пропорций\n",
    "z_statistic, p_value_cr = sm.stats.proportions_ztest(paying_users, total_users)\n",
    "print(f\"Z-статистика: {z_statistic}\")\n",
    "print(f\"P-value: {p_value_cr}\")"
   ]
  },
  {
   "cell_type": "markdown",
   "metadata": {},
   "source": [
    "P-value меньше чем 0.05, соответственно отвергаем нулевую гипотезу. У конверсий двух групп есть стат значимые различия"
   ]
  },
  {
   "cell_type": "markdown",
   "metadata": {},
   "source": [
    "Конверсия в контрольной группе превышает конверсию в тестовой группе и имеются стат значимые различия"
   ]
  },
  {
   "cell_type": "markdown",
   "metadata": {},
   "source": [
    "# Общий вывод по A/B тесту\n",
    "\n",
    "\n",
    "1. В контрольной группе присутствуют **выбросы** (клиенты с высоким **revenue**). Предположили, что данный выброс связан с природой акционных предложений (акция ориентированная на дорогостоящие покупки)\n",
    "\n",
    "\n",
    "2. Определили, что для продукта в данном случае нужно сфокусироваться на метриках **ARPU, ARPPU, Conversion Rate**\n",
    "\n",
    "\n",
    "3. На основе проведенных стат тестов, выяснили, что стат значимых различий в метриках **ARPU и ARPPU** нет. Однако Конверсия (Conversion Rate) в контрольной группе больше чем в тестовой (есть стат значимые различия). Так как метрика потенциально влияет на retentiont rate и отражает удовлетворенность продуктом, набор акционных предложений в контрольной группе можно считать лучшим\n",
    "\n",
    "\n",
    "4. В идеале нужно **пересмотреть правильность проведения A/B теста**, так как наличие **экстремальных выбросов** и **значимое отличие метрик** без учета выбросов, могут говорить о том, что изначально **A/B тест и выборки были составлены неправильно**. Контекст выбросов: Нужно убедиться, что выбросы — это не часть важной категории пользователей (например, лояльные игроки, которые могут быть стратегически важны для бизнеса). Если цель предложения - это активно платящие клиентов (пользователи приносящие высокий доход), то выбросы стоит учитывать. У нас недостаточно информации о роде акционных предложений и о категории данных пользователей (лояльные игроки или случайный выброс)."
   ]
  },
  {
   "cell_type": "markdown",
   "metadata": {},
   "source": [
    "# Задание 3\n",
    "В игре Plants & Gardens каждый месяц проводятся тематические события, ограниченные по времени. В них игроки могут получить уникальные предметы для сада и персонажей, дополнительные монеты или бонусы. Для получения награды требуется пройти ряд уровней за определенное время. С помощью каких метрик можно оценить результаты последнего прошедшего события?\n",
    "\n",
    "Предположим, в другом событии мы усложнили механику событий так, что при каждой неудачной попытке выполнения уровня игрок будет откатываться на несколько уровней назад. Изменится ли набор метрик оценки результата? Если да, то как?"
   ]
  },
  {
   "cell_type": "markdown",
   "metadata": {},
   "source": [
    "Результаты прошедшего события будем оценивать с помощью метрик:\n",
    "\n",
    "**Уровень участия (Participation Rate)** — сколько игроков приняли участие в событии.\n",
    "\n",
    "**Активные участники (Active Participants)** — игроки, которые активно принимают участие.\n",
    "\n",
    "**Процент завершенных уровней (Completion Rate)** - процент игроков, которые прошли все требуемые уровни за заданное время.\n",
    "\n",
    "**Уровень оттока (Churn Rate)** - процент игроков, прекративших участие в событии.\n",
    "\n",
    "**Среднее количество попыток на уровень (Average Attempts per Level)** - среднее количество попыток на прохождение уровня. Позволит оценить сложность уровней.\n",
    " \n",
    "**Среднее время прохождения уровня (Average Completion Time)** - среднее время, которое игроки тратят на выполнение одного уровня. Если время слишком долгое, это может указывать на то, что уровни слишком сложные.\n",
    "\n",
    "**Количество неудачных попыток (Failure Attempts)** - количество неудачных попыток, которые игроки предпринимают, прежде чем успешно пройти уровень. Если это значение высокое, это может свидетельствовать о том, что уровни слишком сложны\n",
    "\n",
    "**Время выполнения события (Event Completion Time)** - общее время, которое игроки затратили на выполнение события. Позволит оценить то, насколько удачно было подобранно отведенное время на событие."
   ]
  },
  {
   "cell_type": "markdown",
   "metadata": {},
   "source": [
    "Если мы усложним механику событий, добавив откат уровней при неудачной попытке, то в целом, предыдущий набор метрик нам подойдет, но нужно будет добавить 2 важные метрики, которые помогут оценить новую механику:\n",
    "\n",
    "**Частота откатов (Rollback Frequency)** - будет измерять, как часто игроки откатываются на предыдущие уровни.\n",
    "\n",
    "**Частота выхода после откатов (Exit Rate After Rollbacks)** —  процент игроков, которые покинули событие после отката уровней.\n"
   ]
  },
  {
   "cell_type": "code",
   "execution_count": null,
   "metadata": {},
   "outputs": [],
   "source": []
  }
 ],
 "metadata": {
  "kernelspec": {
   "display_name": "Python 3",
   "language": "python",
   "name": "python3"
  },
  "language_info": {
   "codemirror_mode": {
    "name": "ipython",
    "version": 3
   },
   "file_extension": ".py",
   "mimetype": "text/x-python",
   "name": "python",
   "nbconvert_exporter": "python",
   "pygments_lexer": "ipython3",
   "version": "3.7.3"
  }
 },
 "nbformat": 4,
 "nbformat_minor": 4
}
